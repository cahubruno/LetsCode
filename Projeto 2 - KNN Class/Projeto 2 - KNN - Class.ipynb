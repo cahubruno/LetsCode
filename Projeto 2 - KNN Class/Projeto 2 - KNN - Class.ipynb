{
 "cells": [
  {
   "cell_type": "markdown",
   "metadata": {},
   "source": [
    "# Projeto 2: K-Nearest Neighbors (KNN) Utilizando Classes\n",
    "\n",
    "\n",
    "### __Curso__: Data Science Degree   \n",
    "### __Aluno__: Carlos Bruno Gomes Cahú   \n",
    "\n",
    "# KNN\n",
    "\n",
    "Modelo supervisionado de machine learning que pode ser utilizado tanto para classificação, isto é, rotular os dados; quanto para regressão, ou seja, aproximar valores.\n",
    "\n",
    "## Algoritmo\n",
    "- Passo 1: Definir um valor para K\n",
    "- Passo 2: Definir os K vizinhos mais próximos do ponto a ser classificado de acordo com uma função de distância.\n",
    "- Passo 3:\n",
    "    - Se for um problema de __Regressão__: Calcular a __média__ de todos os vizinhos.\n",
    "    - Se for um problema de __Classificação__: Calcular a __moda__ de todos os vizinhos.\n",
    "- Passo 4: Atribuir o valor/classe ao ponto de interesse conforme cálculo do Passo 3.   "
   ]
  },
  {
   "cell_type": "markdown",
   "metadata": {},
   "source": [
    "# Instruções do Miniprojeto 2\n",
    "\n",
    "- Trabalho deve ser entregue dia 26/07/2021\n",
    "- Pode ser em grupo ou individual\n",
    "- Continuação do projeto 1. Caso queira usar um codigo de outra pessoa da aula, pode\n",
    "- Entregar 2 arquivos:\n",
    "    - notebook.ipnb (chamando o módulo .py) --> pode ser em .py\n",
    "    - arquivo.py (módulo criado)\n",
    "- Entregar via github (passar o link) ou enviar os arquivos via char do class\n",
    "- O arquivo .py deve conter uma classe e vários métodos (funções criadas no mini projeto 1)\n",
    "- O noteboo.ipynb é o programa principal onde deve ser chamar o módulo via import e apresentar a solução do projeto 1\n",
    "- Uma classe com vários métodos\n",
    "- Must have (Tem que ter):\n",
    "    - deve generalizar a quantidade de carteiras (no projeto 1 foi 4, agora pode ser qualquer valor)\n",
    "    - Tem que ter mais de 1 método (função) dentro da classe (.py)\n",
    "    - O valor de k tem que ser alterável (não deixar o k fixo) --> no programa principal (.ipynb)\n",
    "    \n",
    "- Bom se tiver:\n",
    "    - Doc string"
   ]
  },
  {
   "cell_type": "markdown",
   "metadata": {},
   "source": [
    "# 1. Importando pacotes/módulos/bibliotecas"
   ]
  },
  {
   "cell_type": "code",
   "execution_count": 1,
   "metadata": {},
   "outputs": [
    {
     "name": "stdout",
     "output_type": "stream",
     "text": [
      "<module 'knn_class' from 'C:\\\\Users\\\\cahub\\\\LetsCode\\\\Projeto 2 - KNN Class\\\\knn_class.py'>\n",
      "<module 'data_projeto1' from 'C:\\\\Users\\\\cahub\\\\LetsCode\\\\Projeto 2 - KNN Class\\\\data_projeto1.py'>\n"
     ]
    }
   ],
   "source": [
    "# Importação do pacote/módulo/Biblioteca que contém a classe Knn (Arquivo: knn_class.py)\n",
    "import knn_class as knn\n",
    "print(knn)\n",
    "\n",
    "# Importação da classe que contém os dados de treinamento e teste (Arquivo: data_dsdegree.py)\n",
    "# fornecidos no projeto 1\n",
    "import data_projeto1 as dataprojeto1\n",
    "print(dataprojeto1)"
   ]
  },
  {
   "cell_type": "markdown",
   "metadata": {},
   "source": [
    "# 2. Documentação (Docstring)"
   ]
  },
  {
   "cell_type": "markdown",
   "metadata": {},
   "source": [
    "## 2.1. Documentação - Classe Knn"
   ]
  },
  {
   "cell_type": "code",
   "execution_count": 2,
   "metadata": {},
   "outputs": [
    {
     "name": "stdout",
     "output_type": "stream",
     "text": [
      "####################################################\n",
      "\tDOCUMENTAÇÃO (Docstring) DA CLASSE Knn\n",
      "####################################################\n",
      "\n",
      "Help on class Knn in module knn_class:\n",
      "\n",
      "class Knn(builtins.object)\n",
      " |  Knn(k_class, data_trein, data_test)\n",
      " |  \n",
      " |  Executa o algoritmo de classificação k-nearest neighbors algorithm (KNN)\n",
      " |  \n",
      " |  Methods defined here:\n",
      " |  \n",
      " |  __init__(self, k_class, data_trein, data_test)\n",
      " |      Construtor para a classe Knn\n",
      " |      \n",
      " |      Parâmetros:\n",
      " |         k_class (int): Número que representa os K vizinhos mais próximos\n",
      " |         data_trein (list): Lista com os dados de treinamento que seguem o seguinte padrão \n",
      " |         [CPF: INT, Perfil Do Investidor: STRING, Carteira de Investimento: TUPLA]           \n",
      " |         data_test (list): Lista com os dados de teste que seguem o seguinte padrão \n",
      " |         [CPF: INT, Perfil Do Investidor: STRING, Carteira de Investimento: TUPLA]\n",
      " |  \n",
      " |  __repr__(self)\n",
      " |      Mètodo mágico que imprime a configuração do algoritmo KNN\n",
      " |  \n",
      " |  calculate_distances(self)\n",
      " |      Calcula a distância euclidiana de cada elemento de teste para todos os elementos de treinamento\n",
      " |  \n",
      " |  calculate_nearest_class(self, cpf)\n",
      " |      Identifica dentre as K classes mais próximas do CPF de teste passado como parâmetro aquela que \n",
      " |      tem a maior frequência e classifica esse CPF de teste com esse rótulo de maior frequência\n",
      " |      \n",
      " |      Parameters:\n",
      " |          cpf (int): CPF de teste\n",
      " |  \n",
      " |  euclidean_distance(self, vetor1, vetor2)\n",
      " |      Calcula a distância euclidiana entre dois vetores passados como parâmetro\n",
      " |      \n",
      " |      Parâmetros:\n",
      " |         vetor1 (list): Vetor que representa um elemento de teste\n",
      " |         vetor2 (list): Vetor que representa um elemento de treinamento\n",
      " |  \n",
      " |  order_distances(self, cpf)\n",
      " |      Ordena as distâncias do cpf de teste passado como parâmetro para cada elemento de treinamento\n",
      " |      \n",
      " |      Parameters:\n",
      " |          cpf (int): CPF de teste\n",
      " |  \n",
      " |  print_result(self, detalhamento=False)\n",
      " |      Imprime a classificação de cada CPF de teste\n",
      " |      \n",
      " |      Parameters:\n",
      " |           detalhamento (bool): informa de deve mostrar a frequência das K classes mais próximas. True indica que sim , e False indica que não. Por padrão o detalhamento não é mostrado.\n",
      " |  \n",
      " |  run(self)\n",
      " |      Executa o algoritmo principal do KNN\n",
      " |  \n",
      " |  ----------------------------------------------------------------------\n",
      " |  Data descriptors defined here:\n",
      " |  \n",
      " |  __dict__\n",
      " |      dictionary for instance variables (if defined)\n",
      " |  \n",
      " |  __weakref__\n",
      " |      list of weak references to the object (if defined)\n",
      "\n"
     ]
    }
   ],
   "source": [
    "print('####################################################')\n",
    "print('\\tDOCUMENTAÇÃO (Docstring) DA CLASSE Knn')\n",
    "print('####################################################\\n')\n",
    "help(knn.Knn)"
   ]
  },
  {
   "cell_type": "markdown",
   "metadata": {},
   "source": [
    "## 2.2. Documentação - Classe DataProjeto1"
   ]
  },
  {
   "cell_type": "code",
   "execution_count": 3,
   "metadata": {},
   "outputs": [
    {
     "name": "stdout",
     "output_type": "stream",
     "text": [
      "############################################################\n",
      "\tDOCUMENTAÇÃO (Docstring) DA CLASSE DataProjeto1\n",
      "############################################################\n",
      "\n",
      "Help on class DataProjeto1 in module data_projeto1:\n",
      "\n",
      "class DataProjeto1(builtins.object)\n",
      " |  Classe que armazena o conjunto de teste e de treinamento com dados específicos passados no exercício 1.\n",
      " |  \n",
      " |  Os dados são referentes ao cadastro de clientes de uma empresa de investimentos com suas respectivas carteira de investimentos, que indica se esse cliente tem o perfil de investidor Conservador, Moderado ou Agressivo.\n",
      " |  \n",
      " |  Methods defined here:\n",
      " |  \n",
      " |  __init__(self)\n",
      " |      Construtor para a classe DataProjeto1\n",
      " |      \n",
      " |      Parâmetros:\n",
      " |         data_trein (list): Lista com os dados de treinamento que seguem o seguinte padrão \n",
      " |         [CPF: INT, Perfil Do Investidor: STRING, Carteira de Investimento: TUPLA]           \n",
      " |         data_test (list): Lista com os dados de teste que seguem o seguinte padrão \n",
      " |         [CPF: INT, Perfil Do Investidor: STRING, Carteira de Investimento: TUPLA]\n",
      " |  \n",
      " |  ----------------------------------------------------------------------\n",
      " |  Data descriptors defined here:\n",
      " |  \n",
      " |  __dict__\n",
      " |      dictionary for instance variables (if defined)\n",
      " |  \n",
      " |  __weakref__\n",
      " |      list of weak references to the object (if defined)\n",
      "\n"
     ]
    }
   ],
   "source": [
    "# A classe DataProjeto1 contém os dados de treinamento e teste informados no exercício 1, ou seja,\n",
    "# se quiser treinar e testar com outros dados é necessário informá-los como parâmetro na entrada\n",
    "# do algoritmo Knn. Outros dados de treinamento podem conter quaisquer rótulos além de Conservador, Moderado ou Agressivo\n",
    "print('############################################################')\n",
    "print('\\tDOCUMENTAÇÃO (Docstring) DA CLASSE DataProjeto1')\n",
    "print('############################################################\\n')\n",
    "help(dataprojeto1.DataProjeto1)"
   ]
  },
  {
   "cell_type": "markdown",
   "metadata": {},
   "source": [
    "# 3. Execução do Algoritmo Knn"
   ]
  },
  {
   "cell_type": "code",
   "execution_count": 5,
   "metadata": {},
   "outputs": [
    {
     "name": "stdout",
     "output_type": "stream",
     "text": [
      "#############################################\n",
      "\tCONFIGURAÇÃO DO ALGORITMO Knn\n",
      "#############################################\n",
      "\n",
      "Algoritmo: k-nearest neighbors algorithm (KNN)\n",
      "Parâmetro K: 5\n",
      "Quantidade de dados de treinamento: 120\n",
      "Quantidade de dados de teste: 30\n",
      "Classes/Rótulos identificados no conjunto de treinamento: {'Conservador', 'Moderado', 'Agressivo'}\n",
      "\n",
      "############################################################\n",
      "\tCLASSIFICAÇÕES (Rótulos) do conjunto de testes\n",
      "############################################################\n",
      "\n",
      "['CPF de Teste', 'Classificação (Rótulo)', 'Frequência das Classes mais próximas (K=5)']\n",
      "[45926320819, 'Conservador', [('Conservador', 5)]]\n",
      "[52559670741, 'Conservador', [('Conservador', 5)]]\n",
      "[59016004832, 'Conservador', [('Conservador', 5)]]\n",
      "[66175672425, 'Conservador', [('Conservador', 5)]]\n",
      "[53330429526, 'Conservador', [('Conservador', 5)]]\n",
      "[43765563403, 'Conservador', [('Conservador', 5)]]\n",
      "[68020822591, 'Conservador', [('Conservador', 5)]]\n",
      "[53939481689, 'Conservador', [('Conservador', 5)]]\n",
      "[47014057561, 'Conservador', [('Conservador', 5)]]\n",
      "[57183542047, 'Conservador', [('Conservador', 5)]]\n",
      "[68518284363, 'Moderado', [('Moderado', 5)]]\n",
      "[65806049885, 'Moderado', [('Moderado', 5)]]\n",
      "[54128073086, 'Moderado', [('Moderado', 5)]]\n",
      "[41306785494, 'Moderado', [('Moderado', 5)]]\n",
      "[65234831039, 'Moderado', [('Moderado', 5)]]\n",
      "[50964498067, 'Moderado', [('Moderado', 5)]]\n",
      "[50810951429, 'Moderado', [('Moderado', 5)]]\n",
      "[48765044397, 'Moderado', [('Moderado', 5)]]\n",
      "[41960083761, 'Moderado', [('Moderado', 4), ('Agressivo', 1)]]\n",
      "[76657763082, 'Moderado', [('Moderado', 5)]]\n",
      "[64726487742, 'Agressivo', [('Moderado', 1), ('Agressivo', 4)]]\n",
      "[75746566283, 'Agressivo', [('Agressivo', 5)]]\n",
      "[78576734793, 'Agressivo', [('Agressivo', 5)]]\n",
      "[56440141847, 'Agressivo', [('Moderado', 1), ('Agressivo', 4)]]\n",
      "[66827423000, 'Agressivo', [('Agressivo', 5)]]\n",
      "[45267873396, 'Agressivo', [('Agressivo', 5)]]\n",
      "[46387191493, 'Agressivo', [('Agressivo', 5)]]\n",
      "[54273611732, 'Agressivo', [('Agressivo', 5)]]\n",
      "[75135392881, 'Agressivo', [('Agressivo', 5)]]\n",
      "[64703873108, 'Agressivo', [('Moderado', 2), ('Agressivo', 3)]]\n"
     ]
    }
   ],
   "source": [
    "# Carregando os elementos de treinamento e teste que estão representados na classe 'Data' dentro de 'data_dsdegree.py'\n",
    "data = dataprojeto1.DataProjeto1()\n",
    "# definindo o parâmetro k\n",
    "k_class = 5\n",
    "# Instanciando o algoritmo Knn\n",
    "knn_alg = knn.Knn(k_class, data.data_trein, data.data_test)\n",
    "\n",
    "print('#############################################')\n",
    "print('\\tCONFIGURAÇÃO DO ALGORITMO Knn')\n",
    "print('#############################################')\n",
    "print(knn_alg)\n",
    "\n",
    "print('############################################################')\n",
    "print('\\tCLASSIFICAÇÕES (Rótulos) do conjunto de testes')\n",
    "print('############################################################\\n')\n",
    "# Executando o algoritmo Knn\n",
    "knn_alg.run()\n",
    "knn_alg.print_result(False) # Parâmetro, se 'True' mostra frequência das classes mais próximas. Se 'False', não mostra.\n"
   ]
  }
 ],
 "metadata": {
  "kernelspec": {
   "display_name": "Python 3",
   "language": "python",
   "name": "python3"
  },
  "language_info": {
   "codemirror_mode": {
    "name": "ipython",
    "version": 3
   },
   "file_extension": ".py",
   "mimetype": "text/x-python",
   "name": "python",
   "nbconvert_exporter": "python",
   "pygments_lexer": "ipython3",
   "version": "3.9.5"
  }
 },
 "nbformat": 4,
 "nbformat_minor": 4
}
